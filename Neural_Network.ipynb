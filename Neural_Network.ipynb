{
 "cells": [
  {
   "cell_type": "markdown",
   "id": "bd11da0c",
   "metadata": {},
   "source": [
    "# Imports"
   ]
  },
  {
   "cell_type": "code",
   "execution_count": 2,
   "id": "38a6da2a",
   "metadata": {},
   "outputs": [],
   "source": [
    "import numpy as np\n",
    "import import_ipynb\n",
    "import _pickle as pkl\n",
    "import matplotlib.pyplot as plt\n",
    "from sklearn.datasets import load_iris\n",
    "from sklearn.datasets import make_blobs, make_circles, make_moons, make_classification\n",
    "from sklearn.metrics import accuracy_score\n",
    "from sklearn.preprocessing import MinMaxScaler, OneHotEncoder\n",
    "from utils import plot\n",
    "from utils.samples_generator import make_spiral, make_square, make_cubic, make_exp, make_log10"
   ]
  },
  {
   "cell_type": "markdown",
   "id": "7e0a11e9",
   "metadata": {},
   "source": [
    "# Funções de Ativação"
   ]
  },
  {
   "cell_type": "code",
   "execution_count": 3,
   "id": "bd6b7a2a",
   "metadata": {},
   "outputs": [],
   "source": [
    "def linear(x, derivative=False):\n",
    "    return np.ones_like(x) if derivative else x\n",
    "\n",
    "def sigmoid(x, derivative=False):\n",
    "    if derivative:\n",
    "        y = sigmoid(x)\n",
    "        return y*(1 - y)\n",
    "    return 1.0/(1.0 + np.exp(-x))\n",
    "\n",
    "def tanh(x, derivative=False):\n",
    "    if derivative:\n",
    "        y = tanh(x)\n",
    "        return 1 - y**2\n",
    "    return (np.exp(x) - np.exp(-x))/(np.exp(x) + np.exp(-x))\n",
    "\n",
    "def relu(x, derivative=False):\n",
    "    if derivative:\n",
    "        return np.where(x <= 0, 0, 1)\n",
    "    return np.maximum(0, x)\n",
    "\n",
    "def leaky_relu(x, derivative=False):\n",
    "    alpha = 0.1\n",
    "    if derivative:\n",
    "        return np.where(x <= 0, alpha, 1)\n",
    "    return np.where(x <= 0, alpha*x, x)\n",
    "\n",
    "def elu(x, derivative=False):\n",
    "    alpha = 1.0\n",
    "    if derivative:\n",
    "        y = elu(x)\n",
    "        return np.where(x <= 0, y + alpha, 1)\n",
    "    return np.where(x <= 0, alpha*(np.exp(x) - 1), x)"
   ]
  },
  {
   "cell_type": "markdown",
   "id": "4c86ad6a",
   "metadata": {},
   "source": [
    "# Funções Auxiliares"
   ]
  },
  {
   "cell_type": "code",
   "execution_count": 4,
   "id": "cfdc2edb",
   "metadata": {},
   "outputs": [],
   "source": [
    "def softmax(x, y_oh=None, derivative=False):\n",
    "    if derivative:\n",
    "        y_pred = softmax(x)\n",
    "        k = np.nonzero(y_pred * y_oh)\n",
    "        pk = y_pred[k]\n",
    "        y_pred[k] = pk * (1.0 - pk)\n",
    "        return y_pred\n",
    "    exp = np.exp(x)\n",
    "    return exp / np.sum(exp, axis=1, keepdims=True)"
   ]
  },
  {
   "cell_type": "markdown",
   "id": "a6dc8042",
   "metadata": {},
   "source": [
    "# Funções de Custo"
   ]
  },
  {
   "cell_type": "code",
   "execution_count": 5,
   "id": "f0343bf9",
   "metadata": {},
   "outputs": [],
   "source": [
    "def mae(y, y_pred, derivative=False):\n",
    "    \n",
    "    if(derivative):\n",
    "        return np.where(y_pred>y, 1, -1) / y.shape[0]\n",
    "    \n",
    "    return np.mean(np.abs(y - y_pred))\n",
    "\n",
    "def mse(y, y_pred, derivative = False):\n",
    "    \n",
    "    if(derivative):\n",
    "        return -(y - y_pred) / y.shape[0]\n",
    "    \n",
    "    return 0.5 * np.mean((y - y_pred)**2)"
   ]
  },
  {
   "cell_type": "markdown",
   "id": "9c8c3ace",
   "metadata": {},
   "source": [
    "### Para Classificação Binaria"
   ]
  },
  {
   "cell_type": "code",
   "execution_count": 6,
   "id": "0d9c327a",
   "metadata": {},
   "outputs": [],
   "source": [
    "def binary_cross_entropy ( y, y_pred, derivative = False):\n",
    "    if derivative:\n",
    "        return -(y - y_pred) / (y_pred * (1 - y_pred) *y.shape[0])\n",
    "    return -np.mean(y*np.log(y_pred) + (1 - y)*np.log(1-y_pred))\n",
    "\n",
    "def sigmoid_cross_entropy(y, y_pred, derivative=False):\n",
    "    y_sigmoid = sidmoid(y_pred)\n",
    "    \n",
    "    if derivative:\n",
    "        return -(y - y_sigmoid) / y.shape[0]\n",
    "    \n",
    "    return -np.mean(y*np.log(y_sigmoid) + (1 - y)*np.log(1 - y_sigmoid))\n"
   ]
  },
  {
   "cell_type": "markdown",
   "id": "e9d9d818",
   "metadata": {},
   "source": [
    "### Para Classificação Multiclasse"
   ]
  },
  {
   "cell_type": "code",
   "execution_count": 7,
   "id": "9831ef5c",
   "metadata": {},
   "outputs": [],
   "source": [
    "def neg_log_likelihood(y_oh, y_pred, derivative=False):\n",
    "    k = np.nonzero(y_pred * y_oh)\n",
    "    pk = y_pred[k]\n",
    "    if derivative:\n",
    "        y_pred[k] = (-1.0 / pk)\n",
    "        return y_pred\n",
    "    return np.mean(-np.log(pk))\n",
    "\n",
    "def softmax_neg_log_likelihood(y_oh, y_pred, derivative=False):\n",
    "    y_softmax = softmax(y_pred)\n",
    "    if derivative:\n",
    "        return -(y_oh - y_softmax) / y_oh.shape[0]    \n",
    "    return neg_log_likelihood(y_oh, y_softmax)"
   ]
  },
  {
   "cell_type": "markdown",
   "id": "0db64b2b",
   "metadata": {},
   "source": [
    "# Neural Network"
   ]
  },
  {
   "cell_type": "code",
   "execution_count": 8,
   "id": "05dc9986",
   "metadata": {},
   "outputs": [],
   "source": [
    "class Layer():\n",
    "    def __init__(self, input_dim, output_dim, activation=linear):\n",
    "        self.input = None\n",
    "        self.weights = np.random.randn(output_dim, input_dim)\n",
    "        self.biases = np.random.randn(1, output_dim)\n",
    "        self.activation = activation\n",
    "        \n",
    "        self._activ_inp, self._activ_out = None, None\n",
    "        \n",
    "        self._dweights, self._dbiases = None, None\n",
    "\n",
    "class NeuralNetwork():\n",
    "        def __init__(self, cost_func=mse, learning_rate=1e-3):\n",
    "            self.layers = []\n",
    "            self.cost_func = cost_func\n",
    "            self.learning_rate = learning_rate\n",
    "        \n",
    "        def fit(self, x_train, y_train, epochs=100, verbose=10):\n",
    "            for epoch in range( epochs + 1):\n",
    "                y_pred = self.__feedforward(x_train)\n",
    "                self.__backprop(y_train, y_pred)\n",
    "                \n",
    "                if(epoch % verbose == 0):\n",
    "                    loss_train = self.cost_func(y_train, self.predict(x_train))\n",
    "                    print(f\"epoch: {epoch:=4}/{epochs:=4} loss_train: {loss_train:.8f}\")\n",
    "        \n",
    "        def predict(self, x):\n",
    "            return self.__feedforward(x)\n",
    "            \n",
    "        \n",
    "        def __feedforward(self, x):\n",
    "            self.layers[0].input = x\n",
    "            \n",
    "            for current_layer, next_layer in zip(self.layers, self.layers[1:] + [Layer(0,0)]):\n",
    "                y = np.dot(current_layer.input, current_layer.weights.T) + current_layer.biases\n",
    "                current_layer._activ_inp = y\n",
    "                current_layer._activ_out = next_layer.input = current_layer.activation(y)\n",
    "            \n",
    "            return self.layers[-1]._activ_out\n",
    "                \n",
    "\n",
    "        def __backprop(self, y, y_pred):\n",
    "            last_delta = self.cost_func(y, y_pred, derivative=True)\n",
    "            for layer in reversed(self.layers):\n",
    "                dactivation = layer.activation(layer._activ_inp, derivative=True) * last_delta\n",
    "                last_delta = np.dot(dactivation,layer.weights)\n",
    "                layer._dweights = np.dot(dactivation.T, layer.input)\n",
    "                layer._dbiases = 1.0 * dactivation.sum(axis=0, keepdims=True)\n",
    "                \n",
    "            for layer in reversed (self.layers):\n",
    "                layer.weights = layer.weights - self.learning_rate * layer._dweights\n",
    "                layer.biases = layer.biases - self.learning_rate * layer._dbiases"
   ]
  }
 ],
 "metadata": {
  "kernelspec": {
   "display_name": "Python 3 (ipykernel)",
   "language": "python",
   "name": "python3"
  },
  "language_info": {
   "codemirror_mode": {
    "name": "ipython",
    "version": 3
   },
   "file_extension": ".py",
   "mimetype": "text/x-python",
   "name": "python",
   "nbconvert_exporter": "python",
   "pygments_lexer": "ipython3",
   "version": "3.9.7"
  }
 },
 "nbformat": 4,
 "nbformat_minor": 5
}
